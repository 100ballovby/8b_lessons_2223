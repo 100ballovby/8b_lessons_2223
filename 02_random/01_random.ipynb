{
 "cells": [
  {
   "cell_type": "markdown",
   "source": [
    "# Библиотека <code>random</code>\n",
    "\n",
    "<p>Библиотека нужна для того, чтобы вы могли работать с псевдослучайностью в ваших программах. Псевдо - потому что настоящего генератора действительно случайных чисел не существует.</p>\n",
    "\n",
    "<p>Чтобы начать работать с библиотекой <code>random</code> ее нужно импортировать в ваш файл. Для этого напишем: <code>import random as r</code></p>"
   ],
   "metadata": {
    "collapsed": false,
    "pycharm": {
     "name": "#%% md\n"
    }
   }
  },
  {
   "cell_type": "code",
   "execution_count": 1,
   "metadata": {},
   "outputs": [],
   "source": [
    "import random as r"
   ]
  },
  {
   "cell_type": "markdown",
   "metadata": {},
   "source": [
    "<ul>\n",
    "    <li><b><code>randint(start, stop)</code></b> - генерирует случайное целое число в диапазоне чисел, которые передаются ей в скобках;</li>\n",
    "    <li><b><code>choice(sequence)</code></b> - достает случайное значение из последовательности. Последовательностью может быть строка, список, кортеж;</li>\n",
    "    <li><b><code>uniform(start, stop)</code></b> - генерирует случайную дробь в диапазоне чисел, которые передаются ей в скобках.</li>\n",
    "</ul>"
   ]
  },
  {
   "cell_type": "code",
   "execution_count": 3,
   "metadata": {},
   "outputs": [
    {
     "name": "stdout",
     "output_type": "stream",
     "text": [
      "Случайное целое:  74\n",
      "Случайная дробь:  3.679754234604483\n"
     ]
    }
   ],
   "source": [
    "r_int = r.randint(1, 100)  # генерировать случайное число от 1 до 100\n",
    "r_float = r.uniform(2.5, 4.1)  # генерировать случайную дробь от 2.5 до 4.1\n",
    "\n",
    "print('Случайное целое: ', r_int)\n",
    "print('Случайная дробь: ', r_float)"
   ]
  },
  {
   "cell_type": "markdown",
   "metadata": {},
   "source": [
    "<p>Если вы будете запускать код несколько раз, значения вы будете получать разные, потому что с каждым запуском будет генерироваться новое число.</p>\n",
    "\n",
    "## Решим задачу с применением библиотеки <code>random</code>\n",
    "\n",
    "<p><b>Задача 1:</b> нужно сгенерировать случайное трехзначное число и найти сумму его цифр.<p>"
   ]
  },
  {
   "cell_type": "code",
   "execution_count": 7,
   "metadata": {},
   "outputs": [
    {
     "name": "stdout",
     "output_type": "stream",
     "text": [
      "Число: 199\n",
      "Сумма цифр: 19\n"
     ]
    }
   ],
   "source": [
    "number1 = r.randint(100, 999)  # генерируем случайное число\n",
    "\n",
    "hundreds = number1 // 100  # достаю разряд сотен\n",
    "tens = number1 % 100 // 10  # достаю разряд десятков\n",
    "units = number1 % 10 # достаю разряд единиц\n",
    "\n",
    "print('Число:', number1)\n",
    "print('Сумма цифр:', hundreds + tens + units)"
   ]
  },
  {
   "cell_type": "markdown",
   "metadata": {},
   "source": [
    "<p><b>Задача 2:</b> нужно сгенерировать случайное четырехзначное число и найти сумму его цифр.</p>"
   ]
  },
  {
   "cell_type": "code",
   "execution_count": 8,
   "metadata": {},
   "outputs": [
    {
     "name": "stdout",
     "output_type": "stream",
     "text": [
      "Число: 1539\n",
      "Сумма цифр: 18\n"
     ]
    }
   ],
   "source": [
    "number2 = r.randint(1000, 9999)  # генерируем случайное число\n",
    "\n",
    "thouthands = number2 // 1000 # достаю разряд тысяч \n",
    "temp = number2 % 1000  # превращаю четырехзначное в трезначное \n",
    "hundreds = temp // 100  # достаю разряд сотен\n",
    "tens = temp % 100 // 10  # достаю разряд десятков\n",
    "units = temp % 10 # достаю разряд единиц\n",
    "\n",
    "print('Число:', number2)\n",
    "print('Сумма цифр:', thouthands + hundreds + tens + units)"
   ]
  },
  {
   "cell_type": "markdown",
   "metadata": {},
   "source": [
    "<p>При помощи функции <code>choice(seq)</code> мы можем достать случайное значение из последовательности. Последовательностью из известных нам типов данных может быть только строка.</p>"
   ]
  },
  {
   "cell_type": "code",
   "execution_count": 13,
   "metadata": {},
   "outputs": [
    {
     "name": "stdout",
     "output_type": "stream",
     "text": [
      "н\n"
     ]
    }
   ],
   "source": [
    "phrase = 'Привет, Андрей!'\n",
    "\n",
    "print(r.choice(phrase))  # распечатать случайный символ из строки"
   ]
  }
 ],
 "metadata": {
  "kernelspec": {
   "display_name": "Python 3 (ipykernel)",
   "language": "python",
   "name": "python3"
  },
  "language_info": {
   "codemirror_mode": {
    "name": "ipython",
    "version": 3
   },
   "file_extension": ".py",
   "mimetype": "text/x-python",
   "name": "python",
   "nbconvert_exporter": "python",
   "pygments_lexer": "ipython3",
   "version": "3.9.4"
  }
 },
 "nbformat": 4,
 "nbformat_minor": 1
}