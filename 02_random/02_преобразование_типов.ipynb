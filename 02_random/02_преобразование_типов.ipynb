{
 "cells": [
  {
   "cell_type": "markdown",
   "source": [
    "# Приведение типов\n",
    "\n",
    "<p>Приведение типов - это изменение типа данных переменной. Например: если в переменной сначала хранился тип данных <code>str</code>, но значение переменной нужно посчитать, вы можете привести тип данных этой переменной к <code>int</code>. То есть сделать ее целым числом.</p>\n",
    "\n",
    "<p>Существует несколько функций, которые могут менять типы данных переменной.</p>\n",
    "\n",
    "<ul>\n",
    "    <li><code><b>int(<span style=\"color: red;\">x</span>)</b></code> - преобразует <span style=\"color: red;\">x</span> в тип данных <code>int</code>.</li>\n",
    "    <li><code><b>float(<span style=\"color: red;\">x</span>)</b></code> - преобразует <span style=\"color: red;\">x</span> в тип данных <code>float</code>.</li>\n",
    "    <li><code><b>bool(<span style=\"color: red;\">x</span>)</b></code> - преобразует <span style=\"color: red;\">x</span> в тип данных <code>bool</code>.</li>\n",
    "    <li><code><b>str(<span style=\"color: red;\">x</span>)</b></code> - преобразует <span style=\"color: red;\">x</span> в тип данных <code>str</code>.</li>\n",
    "</ul>\n",
    "\n",
    "\n",
    "<p>Все эти функции всегда будут преобразовывать данные, которые вы им отдаете, но есть несколько моментов.</p>"
   ],
   "metadata": {
    "collapsed": false,
    "pycharm": {
     "name": "#%% md\n"
    }
   }
  },
  {
   "cell_type": "code",
   "execution_count": 23,
   "outputs": [],
   "source": [
    "a = 'five'  # str\n",
    "b = '2'  # str\n",
    "c = '6.2'  # str\n",
    "d = 5  # int\n",
    "e = 1.75  # float"
   ],
   "metadata": {
    "collapsed": false,
    "pycharm": {
     "name": "#%%\n"
    }
   }
  },
  {
   "cell_type": "markdown",
   "source": [
    "# Функция <code>int</code>\n",
    "\n",
    "<p>Больше всего проблем вам доставит именно эта функция, потому что некоторые преобразования она выполнить не может. Например:</p>"
   ],
   "metadata": {
    "collapsed": false,
    "pycharm": {
     "name": "#%% md\n"
    }
   }
  },
  {
   "cell_type": "code",
   "execution_count": 24,
   "outputs": [
    {
     "ename": "ValueError",
     "evalue": "invalid literal for int() with base 10: 'five'",
     "output_type": "error",
     "traceback": [
      "\u001B[0;31m---------------------------------------------------------------------------\u001B[0m",
      "\u001B[0;31mValueError\u001B[0m                                Traceback (most recent call last)",
      "\u001B[0;32m/var/folders/kg/wys5qw45109bn_kq6647wwzw0000gn/T/ipykernel_3286/1731475610.py\u001B[0m in \u001B[0;36m<module>\u001B[0;34m\u001B[0m\n\u001B[0;32m----> 1\u001B[0;31m \u001B[0mprint\u001B[0m\u001B[0;34m(\u001B[0m\u001B[0mint\u001B[0m\u001B[0;34m(\u001B[0m\u001B[0ma\u001B[0m\u001B[0;34m)\u001B[0m\u001B[0;34m)\u001B[0m  \u001B[0;31m# будет ошибка\u001B[0m\u001B[0;34m\u001B[0m\u001B[0;34m\u001B[0m\u001B[0m\n\u001B[0m",
      "\u001B[0;31mValueError\u001B[0m: invalid literal for int() with base 10: 'five'"
     ]
    }
   ],
   "source": [
    "print(int(a))  # будет ошибка"
   ],
   "metadata": {
    "collapsed": false,
    "pycharm": {
     "name": "#%%\n"
    }
   }
  },
  {
   "cell_type": "markdown",
   "source": [
    "<p>Ошибка возникает потому что только вы знаете, что five - это 5, но компьютеру это неизвестно, поэтому такого рода строки она преоьразовать не сможет.</p>"
   ],
   "metadata": {
    "collapsed": false,
    "pycharm": {
     "name": "#%% md\n"
    }
   }
  },
  {
   "cell_type": "code",
   "execution_count": 25,
   "outputs": [
    {
     "name": "stdout",
     "output_type": "stream",
     "text": [
      "2\n"
     ]
    }
   ],
   "source": [
    "print(int(b))"
   ],
   "metadata": {
    "collapsed": false,
    "pycharm": {
     "name": "#%%\n"
    }
   }
  },
  {
   "cell_type": "markdown",
   "source": [
    "<p>Так как значение, написанное в кавычках является как бы числом, функция способна его привести.</p>"
   ],
   "metadata": {
    "collapsed": false,
    "pycharm": {
     "name": "#%% md\n"
    }
   }
  },
  {
   "cell_type": "code",
   "execution_count": 26,
   "outputs": [
    {
     "ename": "ValueError",
     "evalue": "invalid literal for int() with base 10: '6.2'",
     "output_type": "error",
     "traceback": [
      "\u001B[0;31m---------------------------------------------------------------------------\u001B[0m",
      "\u001B[0;31mValueError\u001B[0m                                Traceback (most recent call last)",
      "\u001B[0;32m/var/folders/kg/wys5qw45109bn_kq6647wwzw0000gn/T/ipykernel_3286/114812787.py\u001B[0m in \u001B[0;36m<module>\u001B[0;34m\u001B[0m\n\u001B[0;32m----> 1\u001B[0;31m \u001B[0mprint\u001B[0m\u001B[0;34m(\u001B[0m\u001B[0mint\u001B[0m\u001B[0;34m(\u001B[0m\u001B[0mc\u001B[0m\u001B[0;34m)\u001B[0m\u001B[0;34m)\u001B[0m\u001B[0;34m\u001B[0m\u001B[0;34m\u001B[0m\u001B[0m\n\u001B[0m",
      "\u001B[0;31mValueError\u001B[0m: invalid literal for int() with base 10: '6.2'"
     ]
    }
   ],
   "source": [
    "print(int(c))"
   ],
   "metadata": {
    "collapsed": false,
    "pycharm": {
     "name": "#%%\n"
    }
   }
  },
  {
   "cell_type": "markdown",
   "source": [
    "<p>Ошибка возникает потому что в целых числах не бывает точек. Точка в данном случае расценивается функцией как строчный символ. Фактически в случае с переменной <b>c</b> вы пытаетесь преобразовать строку в число.</p>"
   ],
   "metadata": {
    "collapsed": false,
    "pycharm": {
     "name": "#%% md\n"
    }
   }
  },
  {
   "cell_type": "code",
   "execution_count": null,
   "outputs": [],
   "source": [
    "print(int(e))"
   ],
   "metadata": {
    "collapsed": false,
    "pycharm": {
     "name": "#%%\n"
    }
   }
  },
  {
   "cell_type": "markdown",
   "source": [
    "<p>Точка будет считаться строчной только в том случае, если число написано в кавычках. В математике вы любую десятичную дробь можете сделать целым числом, в программировании так же работает. <b>Функция <code>int()</code></b> НИЧЕГО не округляет. Она просто убирает дробную часть.</p>"
   ],
   "metadata": {
    "collapsed": false,
    "pycharm": {
     "name": "#%% md\n"
    }
   }
  },
  {
   "cell_type": "code",
   "execution_count": null,
   "outputs": [],
   "source": [
    "a = 'five'  # str\n",
    "b = '2'  # str\n",
    "c = '6.2'  # str\n",
    "d = 5  # int\n",
    "e = 1.75  # float"
   ],
   "metadata": {
    "collapsed": false,
    "pycharm": {
     "name": "#%%\n"
    }
   }
  },
  {
   "cell_type": "markdown",
   "source": [
    "# Функция <code>float</code>"
   ],
   "metadata": {
    "collapsed": false,
    "pycharm": {
     "name": "#%% md\n"
    }
   }
  },
  {
   "cell_type": "code",
   "execution_count": null,
   "outputs": [],
   "source": [
    "print(float(b))\n",
    "print(float(c))\n",
    "print(float(d))"
   ],
   "metadata": {
    "collapsed": false,
    "pycharm": {
     "name": "#%%\n"
    }
   }
  },
  {
   "cell_type": "markdown",
   "source": [
    "<p>Переменная <b>c</b> фактически является десятичной дробью, просто ее написали в кавычках. Функция <code>int</code> это приведение выполнить не может из-за точки, но <code>float</code> знает, что в десятичных дробях есть точка и не расценивает ее как строчный элемент.</p>\n",
    "\n",
    "<p>Есть хитрость по переводу переменной <b>c</b> в целое число, для этого нужно совместить две функции:</p>"
   ],
   "metadata": {
    "collapsed": false,
    "pycharm": {
     "name": "#%% md\n"
    }
   }
  },
  {
   "cell_type": "code",
   "execution_count": null,
   "outputs": [],
   "source": [
    "print(int(float(c)))"
   ],
   "metadata": {
    "collapsed": false,
    "pycharm": {
     "name": "#%%\n"
    }
   }
  },
  {
   "cell_type": "markdown",
   "source": [
    "# Функция <code>bool</code>\n",
    "\n",
    "<p>Она преобразовывает все к логическим высказываниям - True/False</p>"
   ],
   "metadata": {
    "collapsed": false,
    "pycharm": {
     "name": "#%% md\n"
    }
   }
  },
  {
   "cell_type": "code",
   "execution_count": null,
   "outputs": [],
   "source": [
    "a = 1\n",
    "b = 0\n",
    "\n",
    "print(bool(a))\n",
    "print(bool(b))"
   ],
   "metadata": {
    "collapsed": false,
    "pycharm": {
     "name": "#%%\n"
    }
   }
  },
  {
   "cell_type": "markdown",
   "source": [
    "<p>Что будет, если преобразовать следующие числа в bool?</p>"
   ],
   "metadata": {
    "collapsed": false,
    "pycharm": {
     "name": "#%% md\n"
    }
   }
  },
  {
   "cell_type": "code",
   "execution_count": null,
   "outputs": [],
   "source": [
    "c = 78\n",
    "d = -9\n",
    "\n",
    "print(bool(c))\n",
    "print(bool(d))"
   ],
   "metadata": {
    "collapsed": false,
    "pycharm": {
     "name": "#%%\n"
    }
   }
  },
  {
   "cell_type": "markdown",
   "source": [
    "<p><code>bool()</code> отдает 0 только в том случае, если вы дадите ей на преобразование <code>0</code>, <code>None</code>, <code>''</code> или пустой массив.</p>"
   ],
   "metadata": {
    "collapsed": false,
    "pycharm": {
     "name": "#%% md\n"
    }
   }
  },
  {
   "cell_type": "code",
   "execution_count": null,
   "outputs": [],
   "source": [
    "print(bool(' '))  # True\n",
    "print(bool(''))  # False"
   ],
   "metadata": {
    "collapsed": false,
    "pycharm": {
     "name": "#%%\n"
    }
   }
  },
  {
   "cell_type": "markdown",
   "source": [
    "# Функция <code>str</code>\n",
    "\n",
    "<p>В строчный тип данных можно привести абсолютно любое значение вне зависимости, что оно из себя представляет.</p>\n",
    "\n",
    "<p>Есть имбалансная функция, которая нивелирует все недостатки функций, написанных выше.</p>\n",
    "\n",
    "# Функция <code>eval</code>\n",
    "\n",
    "<p>Она получает в качестве аргумента какое-то значение. И затем это значение она способна преобразовать <b>В ЛЮБОЙ ТИП ДАННЫХ, КРОМЕ СТРОКИ</b>. Строчки эта штука не воспринимает ни в каком виде.</p>"
   ],
   "metadata": {
    "collapsed": false,
    "pycharm": {
     "name": "#%% md\n"
    }
   }
  },
  {
   "cell_type": "code",
   "execution_count": null,
   "outputs": [],
   "source": [
    "b = '2'  # str\n",
    "c = '6.2'  # str\n",
    "d = 'True'  # str\n",
    "e = 'None'  # str\n",
    "\n",
    "print(eval(b))\n",
    "print(eval(c))\n",
    "print(eval(d))\n",
    "print(eval(e))"
   ],
   "metadata": {
    "collapsed": false,
    "pycharm": {
     "name": "#%%\n"
    }
   }
  },
  {
   "cell_type": "markdown",
   "source": [
    "<p>В отличие от остальных функций <code>eval()</code> понимает математические выражения.</p>"
   ],
   "metadata": {
    "collapsed": false,
    "pycharm": {
     "name": "#%% md\n"
    }
   }
  },
  {
   "cell_type": "code",
   "execution_count": null,
   "outputs": [],
   "source": [
    "math1 = int(input('Введи математическое выражение: '))"
   ],
   "metadata": {
    "collapsed": false,
    "pycharm": {
     "name": "#%%\n"
    }
   }
  },
  {
   "cell_type": "code",
   "execution_count": null,
   "outputs": [],
   "source": [
    "math2 = eval(input('Введи математическое выражение: '))\n",
    "print(math2)"
   ],
   "metadata": {
    "collapsed": false,
    "pycharm": {
     "name": "#%%\n"
    }
   }
  },
  {
   "cell_type": "markdown",
   "source": [
    "<p>Пробелы тоже воспринимаются.</p>"
   ],
   "metadata": {
    "collapsed": false,
    "pycharm": {
     "name": "#%% md\n"
    }
   }
  },
  {
   "cell_type": "code",
   "execution_count": 1,
   "metadata": {},
   "outputs": [],
   "source": [
    "a = 'five'  # str\n",
    "b = '2'  # str\n",
    "c = '6.2'  # str\n",
    "d = 5  # int\n",
    "e = 1.75  # float"
   ]
  },
  {
   "cell_type": "markdown",
   "metadata": {},
   "source": [
    "# Функция <code>int</code>\n",
    "\n",
    "<p>Больше всего проблем вам доставит именно эта функция, потому что некоторые преобразования она выполнить не может. Например:</p>"
   ]
  },
  {
   "cell_type": "code",
   "execution_count": 2,
   "metadata": {},
   "outputs": [
    {
     "ename": "ValueError",
     "evalue": "invalid literal for int() with base 10: 'five'",
     "output_type": "error",
     "traceback": [
      "\u001B[0;31m---------------------------------------------------------------------------\u001B[0m",
      "\u001B[0;31mValueError\u001B[0m                                Traceback (most recent call last)",
      "\u001B[0;32m/var/folders/kg/wys5qw45109bn_kq6647wwzw0000gn/T/ipykernel_3286/2672194977.py\u001B[0m in \u001B[0;36m<module>\u001B[0;34m\u001B[0m\n\u001B[0;32m----> 1\u001B[0;31m \u001B[0mprint\u001B[0m\u001B[0;34m(\u001B[0m\u001B[0mint\u001B[0m\u001B[0;34m(\u001B[0m\u001B[0ma\u001B[0m\u001B[0;34m)\u001B[0m\u001B[0;34m)\u001B[0m  \u001B[0;31m# будет ошибка\u001B[0m\u001B[0;34m\u001B[0m\u001B[0;34m\u001B[0m\u001B[0m\n\u001B[0m",
      "\u001B[0;31mValueError\u001B[0m: invalid literal for int() with base 10: 'five'"
     ]
    }
   ],
   "source": [
    "print(int(a))  # будет ошибка"
   ]
  },
  {
   "cell_type": "markdown",
   "metadata": {},
   "source": [
    "<p>Ошибка возникает потому что только вы знаете, что five - это 5, но компьютеру это неизвестно, поэтому такого рода строки она преоьразовать не сможет.</p>"
   ]
  },
  {
   "cell_type": "code",
   "execution_count": 3,
   "metadata": {},
   "outputs": [
    {
     "name": "stdout",
     "output_type": "stream",
     "text": [
      "2\n"
     ]
    }
   ],
   "source": [
    "print(int(b))"
   ]
  },
  {
   "cell_type": "markdown",
   "metadata": {},
   "source": [
    "<p>Так как значение, написанное в кавычках является как бы числом, функция способна его привести.</p>"
   ]
  },
  {
   "cell_type": "code",
   "execution_count": 4,
   "metadata": {},
   "outputs": [
    {
     "ename": "ValueError",
     "evalue": "invalid literal for int() with base 10: '6.2'",
     "output_type": "error",
     "traceback": [
      "\u001B[0;31m---------------------------------------------------------------------------\u001B[0m",
      "\u001B[0;31mValueError\u001B[0m                                Traceback (most recent call last)",
      "\u001B[0;32m/var/folders/kg/wys5qw45109bn_kq6647wwzw0000gn/T/ipykernel_3286/2610873329.py\u001B[0m in \u001B[0;36m<module>\u001B[0;34m\u001B[0m\n\u001B[0;32m----> 1\u001B[0;31m \u001B[0mprint\u001B[0m\u001B[0;34m(\u001B[0m\u001B[0mint\u001B[0m\u001B[0;34m(\u001B[0m\u001B[0mc\u001B[0m\u001B[0;34m)\u001B[0m\u001B[0;34m)\u001B[0m\u001B[0;34m\u001B[0m\u001B[0;34m\u001B[0m\u001B[0m\n\u001B[0m",
      "\u001B[0;31mValueError\u001B[0m: invalid literal for int() with base 10: '6.2'"
     ]
    }
   ],
   "source": [
    "print(int(c))"
   ]
  },
  {
   "cell_type": "markdown",
   "metadata": {},
   "source": [
    "<p>Ошибка возникает потому что в целых числах не бывает точек. Точка в данном случае расценивается функцией как строчный символ. Фактически в случае с переменной <b>c</b> вы пытаетесь преобразовать строку в число.</p>"
   ]
  },
  {
   "cell_type": "code",
   "execution_count": 5,
   "metadata": {},
   "outputs": [
    {
     "name": "stdout",
     "output_type": "stream",
     "text": [
      "1\n"
     ]
    }
   ],
   "source": [
    "print(int(e))"
   ]
  },
  {
   "cell_type": "markdown",
   "metadata": {},
   "source": [
    "<p>Точка будет считаться строчной только в том случае, если число написано в кавычках. В математике вы любую десятичную дробь можете сделать целым числом, в программировании так же работает. <b>Функция <code>int()</code></b> НИЧЕГО не округляет. Она просто убирает дробную часть.</p>"
   ]
  },
  {
   "cell_type": "code",
   "execution_count": 7,
   "metadata": {},
   "outputs": [],
   "source": [
    "a = 'five'  # str\n",
    "b = '2'  # str\n",
    "c = '6.2'  # str\n",
    "d = 5  # int\n",
    "e = 1.75  # float"
   ]
  },
  {
   "cell_type": "markdown",
   "metadata": {},
   "source": [
    "# Функция <code>float</code>"
   ]
  },
  {
   "cell_type": "code",
   "execution_count": 8,
   "metadata": {},
   "outputs": [
    {
     "name": "stdout",
     "output_type": "stream",
     "text": [
      "2.0\n",
      "6.2\n",
      "5.0\n"
     ]
    }
   ],
   "source": [
    "print(float(b))\n",
    "print(float(c))\n",
    "print(float(d))"
   ]
  },
  {
   "cell_type": "markdown",
   "metadata": {},
   "source": [
    "<p>Переменная <b>c</b> фактически является десятичной дробью, просто ее написали в кавычках. Функция <code>int</code> это приведение выполнить не может из-за точки, но <code>float</code> знает, что в десятичных дробях есть точка и не расценивает ее как строчный элемент.</p>\n",
    "\n",
    "<p>Есть хитрость по переводу переменной <b>c</b> в целое число, для этого нужно совместить две функции:</p>"
   ]
  },
  {
   "cell_type": "code",
   "execution_count": 9,
   "metadata": {},
   "outputs": [
    {
     "name": "stdout",
     "output_type": "stream",
     "text": [
      "6\n"
     ]
    }
   ],
   "source": [
    "print(int(float(c)))"
   ]
  },
  {
   "cell_type": "markdown",
   "metadata": {},
   "source": [
    "# Функция <code>bool</code>\n",
    "\n",
    "<p>Она преобразовывает все к логическим высказываниям - True/False</p>"
   ]
  },
  {
   "cell_type": "code",
   "execution_count": 10,
   "metadata": {},
   "outputs": [
    {
     "name": "stdout",
     "output_type": "stream",
     "text": [
      "True\n",
      "False\n"
     ]
    }
   ],
   "source": [
    "a = 1\n",
    "b = 0\n",
    "\n",
    "print(bool(a))\n",
    "print(bool(b))"
   ]
  },
  {
   "cell_type": "markdown",
   "metadata": {},
   "source": [
    "<p>Что будет, если преобразовать следующие числа в bool?</p>"
   ]
  },
  {
   "cell_type": "code",
   "execution_count": 12,
   "metadata": {},
   "outputs": [
    {
     "name": "stdout",
     "output_type": "stream",
     "text": [
      "True\n",
      "True\n"
     ]
    }
   ],
   "source": [
    "c = 78\n",
    "d = -9\n",
    "\n",
    "print(bool(c))\n",
    "print(bool(d))"
   ]
  },
  {
   "cell_type": "markdown",
   "metadata": {},
   "source": [
    "<p><code>bool()</code> отдает 0 только в том случае, если вы дадите ей на преобразование <code>0</code>, <code>None</code>, <code>''</code> или пустой массив.</p>"
   ]
  },
  {
   "cell_type": "code",
   "execution_count": 14,
   "metadata": {},
   "outputs": [
    {
     "name": "stdout",
     "output_type": "stream",
     "text": [
      "True\n",
      "False\n"
     ]
    }
   ],
   "source": [
    "print(bool(' '))  # True\n",
    "print(bool(''))  # False"
   ]
  },
  {
   "cell_type": "markdown",
   "metadata": {},
   "source": [
    "# Функция <code>str</code>\n",
    "\n",
    "<p>В строчный тип данных можно привести абсолютно любое значение вне зависимости, что оно из себя представляет.</p>\n",
    "\n",
    "<p>Есть имбалансная функция, которая нивелирует все недостатки функций, написанных выше.</p>\n",
    "\n",
    "# Функция <code>eval</code>\n",
    "\n",
    "<p>Она получает в качестве аргумента какое-то значение. И затем это значение она способна преобразовать <b>В ЛЮБОЙ ТИП ДАННЫХ, КРОМЕ СТРОКИ</b>. Строчки эта штука не воспринимает ни в каком виде.</p>"
   ]
  },
  {
   "cell_type": "code",
   "execution_count": 15,
   "metadata": {},
   "outputs": [
    {
     "name": "stdout",
     "output_type": "stream",
     "text": [
      "2\n",
      "6.2\n",
      "True\n",
      "None\n"
     ]
    }
   ],
   "source": [
    "b = '2'  # str\n",
    "c = '6.2'  # str\n",
    "d = 'True'  # str\n",
    "e = 'None'  # str\n",
    "\n",
    "print(eval(b))\n",
    "print(eval(c))\n",
    "print(eval(d))\n",
    "print(eval(e))"
   ]
  },
  {
   "cell_type": "markdown",
   "metadata": {},
   "source": [
    "<p>В отличие от остальных функций <code>eval()</code> понимает математические выражения.</p>"
   ]
  },
  {
   "cell_type": "code",
   "execution_count": 16,
   "metadata": {},
   "outputs": [
    {
     "name": "stdout",
     "output_type": "stream",
     "text": [
      "Введи математическое выражение: 2+4*5\n"
     ]
    },
    {
     "ename": "ValueError",
     "evalue": "invalid literal for int() with base 10: '2+4*5'",
     "output_type": "error",
     "traceback": [
      "\u001B[0;31m---------------------------------------------------------------------------\u001B[0m",
      "\u001B[0;31mValueError\u001B[0m                                Traceback (most recent call last)",
      "\u001B[0;32m/var/folders/kg/wys5qw45109bn_kq6647wwzw0000gn/T/ipykernel_3286/3100181925.py\u001B[0m in \u001B[0;36m<module>\u001B[0;34m\u001B[0m\n\u001B[0;32m----> 1\u001B[0;31m \u001B[0mmath1\u001B[0m \u001B[0;34m=\u001B[0m \u001B[0mint\u001B[0m\u001B[0;34m(\u001B[0m\u001B[0minput\u001B[0m\u001B[0;34m(\u001B[0m\u001B[0;34m'Введи математическое выражение: '\u001B[0m\u001B[0;34m)\u001B[0m\u001B[0;34m)\u001B[0m\u001B[0;34m\u001B[0m\u001B[0;34m\u001B[0m\u001B[0m\n\u001B[0m",
      "\u001B[0;31mValueError\u001B[0m: invalid literal for int() with base 10: '2+4*5'"
     ]
    }
   ],
   "source": [
    "math1 = int(input('Введи математическое выражение: '))"
   ]
  },
  {
   "cell_type": "code",
   "execution_count": 21,
   "metadata": {},
   "outputs": [
    {
     "name": "stdout",
     "output_type": "stream",
     "text": [
      "Введи математическое выражение: 2 + 4 * 5 / 10 ** 3\n",
      "2.02\n"
     ]
    }
   ],
   "source": [
    "math2 = eval(input('Введи математическое выражение: '))\n",
    "print(math2)"
   ]
  },
  {
   "cell_type": "markdown",
   "metadata": {},
   "source": [
    "<p>Пробелы тоже воспринимаются.</p>"
   ]
  }
 ],
 "metadata": {
  "kernelspec": {
   "display_name": "Python 3 (ipykernel)",
   "language": "python",
   "name": "python3"
  },
  "language_info": {
   "codemirror_mode": {
    "name": "ipython",
    "version": 3
   },
   "file_extension": ".py",
   "mimetype": "text/x-python",
   "name": "python",
   "nbconvert_exporter": "python",
   "pygments_lexer": "ipython3",
   "version": "3.9.4"
  }
 },
 "nbformat": 4,
 "nbformat_minor": 1
}