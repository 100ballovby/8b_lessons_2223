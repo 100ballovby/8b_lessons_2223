{
 "cells": [
  {
   "cell_type": "markdown",
   "source": [
    "# Приведение типов данных. Задачи\n",
    "\n",
    "## Задача 1. Сумма трех чисел\n",
    "\n",
    "<p style=\"font-size: 16px\">Напишите программу, которая считывает три числа и выводит их сумму. Каждое число записано в отдельной переменной.</p>"
   ],
   "metadata": {
    "collapsed": false
   }
  },
  {
   "cell_type": "code",
   "execution_count": null,
   "outputs": [],
   "source": [],
   "metadata": {
    "collapsed": false
   }
  },
  {
   "cell_type": "markdown",
   "source": [
    "<p style=\"font-size: 16px;\">Функция <code>eval()</code> в данном случае нужна для того, чтобы в переменную пользователь мог вписывать и целые числа, и десятичные дроби.</p>\n",
    "\n",
    "## Задача 2. Площадь прямоугольного треугольника\n",
    "\n",
    "<p style=\"font-size: 16px;\">Напишите программу, которая считывает длины двух катетов в прямоугольном треугольнике и выводит его площадь. Каждое число записано в отдельной переменной.</p>\n",
    "\n",
    "<p style=\"font-size: 16px;\">Формула нахождения площади: <code><b>1/2 * b * h</b></code></p>"
   ],
   "metadata": {
    "collapsed": false
   }
  },
  {
   "cell_type": "code",
   "execution_count": null,
   "outputs": [],
   "source": [],
   "metadata": {
    "collapsed": false
   }
  },
  {
   "cell_type": "markdown",
   "source": [
    "## Задача 3. Дележ яблок\n",
    "\n",
    "<p style=\"font-size: 16px\"><code>n</code> школьников делят <code>k</code> яблок поровну, неделящийся остаток остается в корзинке. Сколько яблок достанется каждому школьнику? Сколько яблок останется в корзинке? Программа получает на вход числа <code>n</code> и <code>k</code> и должна вывести искомое количество яблок (два числа).</p>"
   ],
   "metadata": {
    "collapsed": false
   }
  },
  {
   "cell_type": "code",
   "execution_count": null,
   "outputs": [],
   "source": [],
   "metadata": {
    "collapsed": false
   }
  },
  {
   "cell_type": "markdown",
   "source": [
    "## Задача 4. Следующее и предыдущее\n",
    "\n",
    "<p style=\"font-size: 18px;\">Напишите программу, которая считывает целое число и выводит текст:</p>\n",
    "\n",
    "<p style=\"font-size: 18px;\">Число <b>17</b></p>\n",
    "<ul>\n",
    "    <li>Следующее число: 18</li>\n",
    "    <li>Предыдущее число: 16</li>\n",
    "</ul>"
   ],
   "metadata": {
    "collapsed": false
   }
  },
  {
   "cell_type": "code",
   "execution_count": null,
   "outputs": [],
   "source": [],
   "metadata": {
    "collapsed": false
   }
  },
  {
   "cell_type": "markdown",
   "source": [
    "## Задача 5. Произведение цифр\n",
    "\n",
    "<p style=\"font-size: 18px\">Задано трёхзначное число <code><b>n</b></code>. Определить произведение его цифр.</p>"
   ],
   "metadata": {
    "collapsed": false
   }
  },
  {
   "cell_type": "code",
   "execution_count": null,
   "outputs": [],
   "source": [],
   "metadata": {
    "collapsed": false
   }
  },
  {
   "cell_type": "markdown",
   "source": [
    "## Задача 6. Время\n",
    "<p style=\"font-size: 18px\">Пользователь вводит количество секунд <code><b>s</b></code>. Нужно перевести это значение в часы, минуты и секунды. Например: <code><b>s = 254</b></code><br>Часы: <b>0</b>, Минуты <b>4</b>, секунды <b>14</b>.</p>"
   ],
   "metadata": {
    "collapsed": false
   }
  },
  {
   "cell_type": "code",
   "execution_count": null,
   "outputs": [],
   "source": [],
   "metadata": {
    "collapsed": false
   }
  },
  {
   "cell_type": "markdown",
   "source": [
    "## Задача 7. Экскурсия\n",
    "\n",
    "<p style=\"font-size: 18px;\">Ученики 8-В класса на осенние каникулы решили поехать на экскурсию в столицу. Зная количество мальчиков <code>n</code> и девочек <code>m</code>, определить, сколько необходимо заказать комнат в отеле, в котором имеются комнаты на <code>k</code> мест каждая, при условии что мальчиков и девочек поселять вместе запрещено.</p>"
   ],
   "metadata": {
    "collapsed": false
   }
  },
  {
   "cell_type": "code",
   "execution_count": null,
   "outputs": [],
   "source": [],
   "metadata": {
    "collapsed": false
   }
  }
 ],
 "metadata": {
  "kernelspec": {
   "display_name": "Python 3 (ipykernel)",
   "language": "python",
   "name": "python3"
  },
  "language_info": {
   "codemirror_mode": {
    "name": "ipython",
    "version": 3
   },
   "file_extension": ".py",
   "mimetype": "text/x-python",
   "name": "python",
   "nbconvert_exporter": "python",
   "pygments_lexer": "ipython3",
   "version": "3.9.4"
  }
 },
 "nbformat": 4,
 "nbformat_minor": 1
}
